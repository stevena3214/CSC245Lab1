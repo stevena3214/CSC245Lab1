{
 "cells": [
  {
   "cell_type": "code",
   "execution_count": 59,
   "id": "initial_id",
   "metadata": {
    "collapsed": true,
    "ExecuteTime": {
     "end_time": "2024-03-01T04:30:15.509629Z",
     "start_time": "2024-03-01T04:30:15.391701100Z"
    }
   },
   "outputs": [
    {
     "data": {
      "text/plain": "array([[11, 12, 13, 14],\n       [15, 16, 17, 18]])"
     },
     "execution_count": 59,
     "metadata": {},
     "output_type": "execute_result"
    }
   ],
   "source": [
    "import numpy as np\n",
    "np.array([range(i, i + 4) for i in [11, 15]])\n"
   ]
  },
  {
   "cell_type": "code",
   "outputs": [
    {
     "data": {
      "text/plain": "array([[0., 0., 0.],\n       [0., 0., 0.],\n       [0., 0., 0.],\n       [0., 0., 0.]], dtype=float32)"
     },
     "execution_count": 60,
     "metadata": {},
     "output_type": "execute_result"
    }
   ],
   "source": [
    "import numpy as np\n",
    "np.array([[0,0,0], [0,0,0], [0,0,0], [0,0,0]] , dtype='float32')\n",
    "          "
   ],
   "metadata": {
    "collapsed": false,
    "ExecuteTime": {
     "end_time": "2024-03-01T04:30:15.510852700Z",
     "start_time": "2024-03-01T04:30:15.399153800Z"
    }
   },
   "id": "fa9581407aa5bf26",
   "execution_count": 60
  },
  {
   "cell_type": "code",
   "outputs": [
    {
     "data": {
      "text/plain": "array([[1., 1., 1., 1.],\n       [1., 1., 1., 1.],\n       [1., 1., 1., 1.]])"
     },
     "execution_count": 61,
     "metadata": {},
     "output_type": "execute_result"
    }
   ],
   "source": [
    "import numpy as np\n",
    "np.ones((3,4))"
   ],
   "metadata": {
    "collapsed": false,
    "ExecuteTime": {
     "end_time": "2024-03-01T04:30:15.511366800Z",
     "start_time": "2024-03-01T04:30:15.407559300Z"
    }
   },
   "id": "55fab036d137f769",
   "execution_count": 61
  },
  {
   "cell_type": "code",
   "outputs": [],
   "source": [],
   "metadata": {
    "collapsed": false,
    "ExecuteTime": {
     "end_time": "2024-03-01T04:30:15.511366800Z",
     "start_time": "2024-03-01T04:30:15.413978100Z"
    }
   },
   "id": "63665939ae3b48c6",
   "execution_count": 61
  },
  {
   "cell_type": "code",
   "outputs": [
    {
     "data": {
      "text/plain": "array([[ 4,  5,  6,  7,  8,  9, 10, 11, 12, 13]])"
     },
     "execution_count": 62,
     "metadata": {},
     "output_type": "execute_result"
    }
   ],
   "source": [
    "import numpy as np\n",
    "np.array([range(i, i + 10) for i in [4]])\n"
   ],
   "metadata": {
    "collapsed": false,
    "ExecuteTime": {
     "end_time": "2024-03-01T04:30:15.555900800Z",
     "start_time": "2024-03-01T04:30:15.515445500Z"
    }
   },
   "id": "60262fe616954883",
   "execution_count": 62
  },
  {
   "cell_type": "code",
   "outputs": [
    {
     "data": {
      "text/plain": "array([[0. , 1.5, 3. , 4.5]])"
     },
     "execution_count": 63,
     "metadata": {},
     "output_type": "execute_result"
    }
   ],
   "source": [
    "import numpy as np\n",
    "np.array([[0., 1.5, 3.0, 4.5]])"
   ],
   "metadata": {
    "collapsed": false,
    "ExecuteTime": {
     "end_time": "2024-03-01T04:30:15.576156800Z",
     "start_time": "2024-03-01T04:30:15.558899400Z"
    }
   },
   "id": "30ce3818ee000233",
   "execution_count": 63
  },
  {
   "cell_type": "code",
   "outputs": [
    {
     "data": {
      "text/plain": "array([[4, 4],\n       [4, 4]])"
     },
     "execution_count": 64,
     "metadata": {},
     "output_type": "execute_result"
    }
   ],
   "source": [
    "import numpy as np\n",
    "np.array ([[4,4],[4,4]])"
   ],
   "metadata": {
    "collapsed": false,
    "ExecuteTime": {
     "end_time": "2024-03-01T04:30:15.610480100Z",
     "start_time": "2024-03-01T04:30:15.578161600Z"
    }
   },
   "id": "8c52876398ab237f",
   "execution_count": 64
  },
  {
   "cell_type": "code",
   "outputs": [
    {
     "data": {
      "text/plain": "array([[1., 0., 0., 0.],\n       [0., 1., 0., 0.],\n       [0., 0., 1., 0.],\n       [0., 0., 0., 1.]])"
     },
     "execution_count": 65,
     "metadata": {},
     "output_type": "execute_result"
    }
   ],
   "source": [
    "import numpy as np \n",
    "np.eye(4)\n"
   ],
   "metadata": {
    "collapsed": false,
    "ExecuteTime": {
     "end_time": "2024-03-01T04:30:15.611505200Z",
     "start_time": "2024-03-01T04:30:15.586130500Z"
    }
   },
   "id": "7fae3490605a4f70",
   "execution_count": 65
  },
  {
   "cell_type": "code",
   "outputs": [
    {
     "data": {
      "text/plain": "array([[10,  0],\n       [ 0, 12]])"
     },
     "execution_count": 66,
     "metadata": {},
     "output_type": "execute_result"
    }
   ],
   "source": [
    "import numpy as np\n",
    "x = np.array ([10,12])\n",
    "np.diag(x)"
   ],
   "metadata": {
    "collapsed": false,
    "ExecuteTime": {
     "end_time": "2024-03-01T04:30:15.612109300Z",
     "start_time": "2024-03-01T04:30:15.591168500Z"
    }
   },
   "id": "3caa6f1c2202f71b",
   "execution_count": 66
  },
  {
   "cell_type": "code",
   "outputs": [
    {
     "data": {
      "text/plain": "array([[2.59744171, 5.13047028, 3.99792859],\n       [4.28299253, 4.67651836, 6.52302833],\n       [6.61257061, 5.41535907, 2.0408885 ]])"
     },
     "execution_count": 67,
     "metadata": {},
     "output_type": "execute_result"
    }
   ],
   "source": [
    "import numpy as np\n",
    "10*np.random.random_sample((3, 3))"
   ],
   "metadata": {
    "collapsed": false,
    "ExecuteTime": {
     "end_time": "2024-03-01T04:30:15.612109300Z",
     "start_time": "2024-03-01T04:30:15.599727600Z"
    }
   },
   "id": "d0664d43b82af9ba",
   "execution_count": 67
  },
  {
   "cell_type": "code",
   "outputs": [
    {
     "name": "stderr",
     "output_type": "stream",
     "text": [
      "C:\\Users\\USER\\AppData\\Local\\Temp\\ipykernel_7624\\627953021.py:2: DeprecationWarning: This function is deprecated. Please call randint(10, 20 + 1) instead\n",
      "  np.random.random_integers(10, high = 20, size=(3,3))\n"
     ]
    },
    {
     "data": {
      "text/plain": "array([[15, 16, 19],\n       [12, 19, 20],\n       [13, 18, 20]])"
     },
     "execution_count": 68,
     "metadata": {},
     "output_type": "execute_result"
    }
   ],
   "source": [
    "import numpy as np\n",
    "np.random.random_integers(10, high = 20, size=(3,3))\n"
   ],
   "metadata": {
    "collapsed": false,
    "ExecuteTime": {
     "end_time": "2024-03-01T04:30:15.648656400Z",
     "start_time": "2024-03-01T04:30:15.615915100Z"
    }
   },
   "id": "42618bbf8d697a11",
   "execution_count": 68
  },
  {
   "cell_type": "code",
   "outputs": [
    {
     "data": {
      "text/plain": "array([[11, 12]])"
     },
     "execution_count": 74,
     "metadata": {},
     "output_type": "execute_result"
    }
   ],
   "source": [
    "import numpy as np\n",
    "myArray= np.array([[11,12,13], [14,15,16], [17,18,19]])\n",
    "myArray[:1 , :2]"
   ],
   "metadata": {
    "collapsed": false,
    "ExecuteTime": {
     "end_time": "2024-03-01T04:33:27.902443200Z",
     "start_time": "2024-03-01T04:33:27.875311500Z"
    }
   },
   "id": "ecb2beea2acecc98",
   "execution_count": 74
  },
  {
   "cell_type": "code",
   "outputs": [
    {
     "name": "stdout",
     "output_type": "stream",
     "text": [
      "[[ 0  0  0]\n",
      " [ 0  0  0]\n",
      " [17 18 19]]\n"
     ]
    }
   ],
   "source": [
    "import numpy as np\n",
    "myArray = np.array([[11,12,13], [14,15,16], [17,18,19]])\n",
    "myArray[:2, :] = 0\n",
    "print (myArray)"
   ],
   "metadata": {
    "collapsed": false,
    "ExecuteTime": {
     "end_time": "2024-03-01T04:41:13.691695100Z",
     "start_time": "2024-03-01T04:41:13.662435800Z"
    }
   },
   "id": "bc9c1f03b80311ac",
   "execution_count": 77
  },
  {
   "cell_type": "code",
   "outputs": [
    {
     "name": "stdout",
     "output_type": "stream",
     "text": [
      "[[20 19 18 17 16 15 14 13 12 11 10  9  8  7  6  5  4  3  2  1  0]]\n"
     ]
    }
   ],
   "source": [
    "import numpy as np\n",
    "x = np.array([range(i, i + 21) for i in [0]])\n",
    "x_reversed = x[:,::-1]\n",
    "print(x_reversed)"
   ],
   "metadata": {
    "collapsed": false,
    "ExecuteTime": {
     "end_time": "2024-03-01T04:51:50.177265500Z",
     "start_time": "2024-03-01T04:51:50.165500100Z"
    }
   },
   "id": "d7e3e70e69a9aae0",
   "execution_count": 85
  },
  {
   "cell_type": "code",
   "outputs": [
    {
     "data": {
      "text/plain": "array([[11, 12],\n       [13, 14],\n       [15, 16]])"
     },
     "execution_count": 86,
     "metadata": {},
     "output_type": "execute_result"
    }
   ],
   "source": [
    "import numpy as np\n",
    "myArray = np.array([[11,12,13], [14,15,16]])\n",
    "myArray.reshape(3,2)\n"
   ],
   "metadata": {
    "collapsed": false,
    "ExecuteTime": {
     "end_time": "2024-03-01T23:04:00.074010700Z",
     "start_time": "2024-03-01T23:04:00.058357600Z"
    }
   },
   "id": "5862e3120680d057",
   "execution_count": 86
  },
  {
   "cell_type": "code",
   "outputs": [
    {
     "data": {
      "text/plain": "array([ 0,  1,  4,  9, 16, 25, 36, 49, 64, 81], dtype=int32)"
     },
     "execution_count": 87,
     "metadata": {},
     "output_type": "execute_result"
    }
   ],
   "source": [
    "import numpy as np\n",
    "myArray = np.arange(10)\n",
    "np.power(myArray, 2)"
   ],
   "metadata": {
    "collapsed": false,
    "ExecuteTime": {
     "end_time": "2024-03-01T23:51:55.341487Z",
     "start_time": "2024-03-01T23:51:55.312821100Z"
    }
   },
   "id": "e8d78c69cf0a26e5",
   "execution_count": 87
  },
  {
   "cell_type": "code",
   "outputs": [
    {
     "data": {
      "text/plain": "array([0.        , 1.        , 1.41421356, 1.73205081, 2.        ,\n       2.23606798, 2.44948974, 2.64575131, 2.82842712, 3.        ])"
     },
     "execution_count": 89,
     "metadata": {},
     "output_type": "execute_result"
    }
   ],
   "source": [
    "import numpy as np\n",
    "myArray = np.arange(10)\n",
    "np.sqrt(myArray)"
   ],
   "metadata": {
    "collapsed": false,
    "ExecuteTime": {
     "end_time": "2024-03-02T00:12:53.153487800Z",
     "start_time": "2024-03-02T00:12:53.132027700Z"
    }
   },
   "id": "b94d097d6911617",
   "execution_count": 89
  },
  {
   "cell_type": "code",
   "outputs": [
    {
     "name": "stdout",
     "output_type": "stream",
     "text": [
      "[  0.           1.           5.65685425  15.58845727  32.\n",
      "  55.90169944  88.18163074 129.64181424 181.01933598 243.        ]\n"
     ]
    }
   ],
   "source": [
    "import numpy as np\n",
    "myArray = np.arange(10)\n",
    "squared = np.power(myArray, 2)\n",
    "root = np.sqrt(myArray)\n",
    "result = squared * root\n",
    "print(result)"
   ],
   "metadata": {
    "collapsed": false,
    "ExecuteTime": {
     "end_time": "2024-03-02T00:15:31.107444200Z",
     "start_time": "2024-03-02T00:15:31.101240800Z"
    }
   },
   "id": "8327d88a83ccaa15",
   "execution_count": 91
  },
  {
   "cell_type": "code",
   "outputs": [
    {
     "name": "stdout",
     "output_type": "stream",
     "text": [
      "[[11 12 13]\n",
      " [14 15 16]\n",
      " [17 18 19]]\n"
     ]
    }
   ],
   "source": [
    "import numpy as np\n",
    "myArray = np.array([[11,12,13], [14,15,16], [17,18,19]])\n",
    "print(myArray)"
   ],
   "metadata": {
    "collapsed": false,
    "ExecuteTime": {
     "end_time": "2024-03-02T01:38:45.750352500Z",
     "start_time": "2024-03-02T01:38:45.736456200Z"
    }
   },
   "id": "f0727044905ba6a0",
   "execution_count": 92
  },
  {
   "cell_type": "code",
   "outputs": [
    {
     "name": "stdout",
     "output_type": "stream",
     "text": [
      "[[11 12 13 30]\n",
      " [14 15 16 40]\n",
      " [17 18 19 50]] [[11 12 13]\n",
      " [14 15 16]\n",
      " [17 18 19]\n",
      " [20 21 22]]\n"
     ]
    }
   ],
   "source": [
    "import numpy as np\n",
    "myArray = np.array([[11,12,13], [14,15,16], [17,18,19]])\n",
    "newRow = np.array([[20,21,22]])\n",
    "y = np.vstack((myArray, newRow))\n",
    "\n",
    "                    "
   ],
   "metadata": {
    "collapsed": false,
    "ExecuteTime": {
     "end_time": "2024-03-02T03:28:40.023537400Z",
     "start_time": "2024-03-02T03:28:40.019772600Z"
    }
   },
   "id": "244fb0f3129e68da",
   "execution_count": 98
  },
  {
   "cell_type": "code",
   "outputs": [
    {
     "name": "stdout",
     "output_type": "stream",
     "text": [
      "[[11 12 13 30]\n",
      " [14 15 16 40]\n",
      " [17 18 19 50]]\n"
     ]
    }
   ],
   "source": [
    "import numpy as np\n",
    "newColumn = np.array([[30], [40] ,[50]])\n",
    "x = np.hstack((myArray, newColumn))\n",
    "print(x)\n"
   ],
   "metadata": {
    "collapsed": false,
    "ExecuteTime": {
     "end_time": "2024-03-02T03:29:16.885814500Z",
     "start_time": "2024-03-02T03:29:16.861964600Z"
    }
   },
   "id": "bbcc5e42739842b1",
   "execution_count": 100
  },
  {
   "cell_type": "code",
   "outputs": [
    {
     "name": "stdout",
     "output_type": "stream",
     "text": [
      "[[0. 0. 1.]\n",
      " [0. 0. 1.]]\n"
     ]
    }
   ],
   "source": [
    "import numpy as np\n",
    "myArray = np.zeros((2,2))\n",
    "newC = np.ones((2,1))\n",
    "z = np.hstack((myArray, newC))\n",
    "print(z)"
   ],
   "metadata": {
    "collapsed": false,
    "ExecuteTime": {
     "end_time": "2024-03-02T03:41:26.070735500Z",
     "start_time": "2024-03-02T03:41:26.035925400Z"
    }
   },
   "id": "bf9751993034dd0b",
   "execution_count": 111
  },
  {
   "cell_type": "code",
   "outputs": [
    {
     "name": "stdout",
     "output_type": "stream",
     "text": [
      "[[0. 0. 1.]\n",
      " [0. 0. 1.]\n",
      " [0. 0. 0.]\n",
      " [0. 0. 0.]]\n"
     ]
    }
   ],
   "source": [
    "import numpy as np\n",
    "zeros_rows = np.zeros((2,3))\n",
    "final_array = np.vstack((z,zeros_rows))\n",
    "print(final_array)"
   ],
   "metadata": {
    "collapsed": false,
    "ExecuteTime": {
     "end_time": "2024-03-02T03:59:52.192011200Z",
     "start_time": "2024-03-02T03:59:52.164952200Z"
    }
   },
   "id": "ac1908b05bb3758b",
   "execution_count": 124
  },
  {
   "cell_type": "code",
   "outputs": [
    {
     "name": "stdout",
     "output_type": "stream",
     "text": [
      "[[0. 0.]\n",
      " [0. 0.]\n",
      " [0. 0.]\n",
      " [0. 0.]]\n"
     ]
    }
   ],
   "source": [
    "import numpy as np\n",
    "final_array_without_last_column = np.delete(final_array, -1, axis=1)\n",
    "print(final_array_without_last_column)"
   ],
   "metadata": {
    "collapsed": false,
    "ExecuteTime": {
     "end_time": "2024-03-02T04:00:31.214159Z",
     "start_time": "2024-03-02T04:00:31.201463900Z"
    }
   },
   "id": "33af93cd12b99159",
   "execution_count": 125
  },
  {
   "cell_type": "code",
   "outputs": [
    {
     "name": "stdout",
     "output_type": "stream",
     "text": [
      "[[0. 0.]\n",
      " [0. 0.]\n",
      " [0. 0.]]\n"
     ]
    }
   ],
   "source": [
    "import numpy as np\n",
    "final_array_without_last_row = np.delete(final_array_without_last_column, -1, axis=0)\n",
    "print(final_array_without_last_row)"
   ],
   "metadata": {
    "collapsed": false,
    "ExecuteTime": {
     "end_time": "2024-03-02T04:02:07.033755900Z",
     "start_time": "2024-03-02T04:02:07.011029900Z"
    }
   },
   "id": "c73bf6f029ff2025",
   "execution_count": 126
  },
  {
   "cell_type": "code",
   "outputs": [
    {
     "name": "stdout",
     "output_type": "stream",
     "text": [
      "[[1 3]\n",
      " [4 6]\n",
      " [9 7]]\n"
     ]
    }
   ],
   "source": [
    "import numpy as np\n",
    "myArray = np.matrix([[1, 2, 3], [4, 5, 6], [9, 8, 7]])\n",
    "column_to_remove = 1\n",
    "result_array = np.delete(myArray, column_to_remove, axis=1)\n",
    "print(result_array)"
   ],
   "metadata": {
    "collapsed": false,
    "ExecuteTime": {
     "end_time": "2024-03-02T04:13:10.002437600Z",
     "start_time": "2024-03-02T04:13:09.992365700Z"
    }
   },
   "id": "87564f795e7bd2e1",
   "execution_count": 134
  },
  {
   "cell_type": "code",
   "outputs": [
    {
     "name": "stdout",
     "output_type": "stream",
     "text": [
      "[ 0 -1  2 -1  4 -1  6 -1  8 -1]\n"
     ]
    }
   ],
   "source": [
    "import numpy as np\n",
    "exercise_1 = np.array([0, 1, 2, 3, 4, 5, 6, 7, 8, 9])\n",
    "mask = exercise_1 % 2 != 0\n",
    "exercise_1[mask] = -1\n",
    "print(exercise_1)"
   ],
   "metadata": {
    "collapsed": false,
    "ExecuteTime": {
     "end_time": "2024-03-02T04:14:31.229144100Z",
     "start_time": "2024-03-02T04:14:31.205086Z"
    }
   },
   "id": "3aa39290f2326f89",
   "execution_count": 135
  },
  {
   "cell_type": "code",
   "outputs": [
    {
     "name": "stdout",
     "output_type": "stream",
     "text": [
      "[[0 1 2]\n",
      " [3 4 5]\n",
      " [6 7 8]]\n"
     ]
    }
   ],
   "source": [
    "import numpy as np\n",
    "exercise_2 = np.array([0, 1, 2, 3, 4, 5, 6, 7, 8])\n",
    "result = np.reshape(exercise_2, (3, -1))\n",
    "print(result)"
   ],
   "metadata": {
    "collapsed": false,
    "ExecuteTime": {
     "end_time": "2024-03-02T04:16:27.213972Z",
     "start_time": "2024-03-02T04:16:27.186064100Z"
    }
   },
   "id": "9d5fab0726e7eb86",
   "execution_count": 136
  },
  {
   "cell_type": "code",
   "outputs": [
    {
     "name": "stdout",
     "output_type": "stream",
     "text": [
      "[[202 203]\n",
      " [204 205]]\n"
     ]
    }
   ],
   "source": [
    "import numpy as np\n",
    "exercise_3 = np.arange(4).reshape(2, -1)\n",
    "result = exercise_3 + 202\n",
    "print(result)"
   ],
   "metadata": {
    "collapsed": false,
    "ExecuteTime": {
     "end_time": "2024-03-02T04:18:36.684457Z",
     "start_time": "2024-03-02T04:18:36.665457600Z"
    }
   },
   "id": "9bee4a1172d6481",
   "execution_count": 137
  },
  {
   "cell_type": "code",
   "outputs": [
    {
     "name": "stdout",
     "output_type": "stream",
     "text": [
      "[39 34 30 36 38 32 38 36 36 32]\n"
     ]
    }
   ],
   "source": [
    "import numpy as np\n",
    "random_array = np.random.randint(30, 41, size=10)\n",
    "print(random_array)"
   ],
   "metadata": {
    "collapsed": false,
    "ExecuteTime": {
     "end_time": "2024-03-02T04:19:58.702503600Z",
     "start_time": "2024-03-02T04:19:58.677291500Z"
    }
   },
   "id": "564058a27b5bae12",
   "execution_count": 138
  },
  {
   "cell_type": "code",
   "outputs": [
    {
     "name": "stdout",
     "output_type": "stream",
     "text": [
      "(array([1, 2, 4, 5, 6, 7, 8, 9], dtype=int64),) (array([0], dtype=int64),)\n"
     ]
    }
   ],
   "source": [
    "import numpy as np\n",
    "x = np.array([21, 64, 86, 22, 74, 55, 81, 79, 90, 89]) \n",
    "y = np.array([21, 7, 3, 45, 10, 29, 55, 4, 37, 18])\n",
    "positions_gt = np.where(x > y)\n",
    "positions_eq = np.where(x == y)\n",
    "print(positions_gt, positions_eq)"
   ],
   "metadata": {
    "collapsed": false,
    "ExecuteTime": {
     "end_time": "2024-03-02T04:22:06.858970400Z",
     "start_time": "2024-03-02T04:22:06.843646100Z"
    }
   },
   "id": "e388339eb1977b48",
   "execution_count": 139
  },
  {
   "cell_type": "code",
   "outputs": [
    {
     "name": "stdout",
     "output_type": "stream",
     "text": [
      "[[ 0  1  2  3]\n",
      " [20 21 22 23]\n",
      " [40 41 42 43]\n",
      " [60 61 62 63]\n",
      " [80 81 82 83]]\n"
     ]
    }
   ],
   "source": [
    "import numpy as np\n",
    "exercise_6 = np.arange(100).reshape(5, -1)\n",
    "first_four_columns = exercise_6[:, :4]\n",
    "print(first_four_columns)"
   ],
   "metadata": {
    "collapsed": false,
    "ExecuteTime": {
     "end_time": "2024-03-02T04:23:43.432723400Z",
     "start_time": "2024-03-02T04:23:43.421936600Z"
    }
   },
   "id": "4d4b74c9c3d4ece3",
   "execution_count": 140
  },
  {
   "cell_type": "code",
   "outputs": [],
   "source": [],
   "metadata": {
    "collapsed": false
   },
   "id": "cf760e3f73684b75"
  }
 ],
 "metadata": {
  "kernelspec": {
   "display_name": "Python 3",
   "language": "python",
   "name": "python3"
  },
  "language_info": {
   "codemirror_mode": {
    "name": "ipython",
    "version": 2
   },
   "file_extension": ".py",
   "mimetype": "text/x-python",
   "name": "python",
   "nbconvert_exporter": "python",
   "pygments_lexer": "ipython2",
   "version": "2.7.6"
  }
 },
 "nbformat": 4,
 "nbformat_minor": 5
}
